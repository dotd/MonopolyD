{
 "cells": [
  {
   "cell_type": "code",
   "execution_count": 44,
   "metadata": {},
   "outputs": [
    {
     "name": "stdout",
     "output_type": "stream",
     "text": [
      "Sequential(\n",
      "  (0): Linear(in_features=2, out_features=4, bias=True)\n",
      "  (1): ReLU()\n",
      "  (2): Linear(in_features=4, out_features=5, bias=True)\n",
      ")\n",
      "W:Parameter containing:\n",
      " 0.5587 -0.1838\n",
      "-0.5432  0.5072\n",
      "-0.3850 -0.4291\n",
      " 0.6030  0.5858\n",
      "[torch.FloatTensor of size 4x2]\n",
      "\n",
      "b:Parameter containing:\n",
      " 0.0506\n",
      " 0.1718\n",
      "-0.6463\n",
      " 0.0568\n",
      "[torch.FloatTensor of size 4]\n",
      "\n",
      "new_linear=Linear(in_features=3, out_features=4, bias=True)\n",
      "Sequential(\n",
      "  (0): Linear(in_features=3, out_features=4, bias=True)\n",
      "  (1): ReLU()\n",
      "  (2): Linear(in_features=4, out_features=5, bias=True)\n",
      ")\n",
      "W:Parameter containing:\n",
      " 0.5587 -0.1838  0.0000\n",
      "-0.5432  0.5072  0.0000\n",
      "-0.3850 -0.4291  0.0000\n",
      " 0.6030  0.5858  0.0000\n",
      "[torch.FloatTensor of size 4x3]\n",
      "\n",
      "b:Parameter containing:\n",
      " 0.0506\n",
      " 0.1718\n",
      "-0.6463\n",
      " 0.0568\n",
      "[torch.FloatTensor of size 4]\n",
      "\n"
     ]
    }
   ],
   "source": [
    "import torch\n",
    "from torch.autograd import Variable\n",
    "from collections import OrderedDict\n",
    "# Create a network\n",
    "model = torch.nn.Sequential(OrderedDict([\n",
    "            (\"0\", torch.nn.Linear(2,4)), (\"1\", torch.nn.ReLU()) , (\"2\",torch.nn.Linear(4,5))\n",
    "        ]))\n",
    "W=list(model.parameters())[0]\n",
    "b=list(model.parameters())[1]\n",
    "print(str(model))\n",
    "print(\"W:{}\".format(W))\n",
    "print(\"b:{}\".format(b))\n",
    "addition_size=1 # how many added columns of zeros are needed\n",
    "Wnew = torch.cat( ( W, Variable(torch.zeros([W.size()[0],addition_size])) ), 1)\n",
    "new_linear = torch.nn.Linear(3,4)\n",
    "print(\"new_linear={}\".format(str(new_linear)))\n",
    "new_linear.weight.data = Wnew.data\n",
    "list(new_linear.parameters())[0].data = Wnew.data\n",
    "\n",
    "# set the data\n",
    "model._modules[\"0\"] = new_linear\n",
    "\n",
    "\n",
    "print(str(model))\n",
    "\n",
    "print(\"W:{}\".format(list(model.parameters())[0]))\n",
    "print(\"b:{}\".format(b))\n",
    "\n"
   ]
  },
  {
   "cell_type": "code",
   "execution_count": 19,
   "metadata": {},
   "outputs": [
    {
     "name": "stdout",
     "output_type": "stream",
     "text": [
      "\n",
      " 1  2\n",
      " 3  4\n",
      " 5  6\n",
      "[torch.FloatTensor of size 3x2]\n",
      "\n",
      "\n",
      " 1.0000  2.0000\n",
      " 3.0000  4.0000\n",
      " 5.0000  6.0000\n",
      " 0.0000  0.0000\n",
      " 0.0000  0.0000\n",
      "[torch.FloatTensor of size 5x2]\n",
      "\n"
     ]
    }
   ],
   "source": [
    "x = torch.Tensor([[1, 2], [3, 4], [5, 6]])\n",
    "print(x)\n",
    "x.resize_(5,2)\n",
    "print(x)"
   ]
  },
  {
   "cell_type": "code",
   "execution_count": 28,
   "metadata": {},
   "outputs": [
    {
     "data": {
      "text/plain": [
       "Sequential(\n",
       "  (0): Linear(in_features=2, out_features=4, bias=True)\n",
       ")"
      ]
     },
     "execution_count": 28,
     "metadata": {},
     "output_type": "execute_result"
    }
   ],
   "source": [
    "list(model.modules())[0].\n"
   ]
  },
  {
   "cell_type": "code",
   "execution_count": null,
   "metadata": {},
   "outputs": [],
   "source": [
    "import torch\n",
    "from torch.autograd import Variable\n",
    "# Create a network\n",
    "model = torch.nn.Sequential(torch.nn.Linear(2,4), torch.nn.ReLU(),torch.nn.Linear(4,5))\n",
    "# get the original input layer W\n",
    "W=list(model.parameters())[0]\n",
    "# augment it with additional zeros\n",
    "Wnew = torch.cat( ( W, Variable(torch.zeros([W.size()[0],addition_size])) ), 1)\n",
    "new_linear = torch.nn.Linear(3,4)\n",
    "print(\"new_linear={}\".format(str(new_linear)))\n",
    "list(new_linear.parameters())[0].data = Wnew.data\n",
    "# set the data\n",
    "list(model.modules())[0] = new_linear\n",
    "print(str(model))\n",
    "print(\"W:{}\".format(W))\n",
    "print(\"b:{}\".format(b))\n"
   ]
  }
 ],
 "metadata": {
  "kernelspec": {
   "display_name": "Python 3",
   "language": "python",
   "name": "python3"
  },
  "language_info": {
   "codemirror_mode": {
    "name": "ipython",
    "version": 3
   },
   "file_extension": ".py",
   "mimetype": "text/x-python",
   "name": "python",
   "nbconvert_exporter": "python",
   "pygments_lexer": "ipython3",
   "version": "3.6.4"
  }
 },
 "nbformat": 4,
 "nbformat_minor": 2
}
